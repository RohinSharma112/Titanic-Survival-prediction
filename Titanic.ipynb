{
 "cells": [
  {
   "cell_type": "markdown",
   "metadata": {},
   "source": [
    "# Titanic Passenger Survival Prediction"
   ]
  },
  {
   "cell_type": "code",
   "execution_count": 1,
   "metadata": {},
   "outputs": [],
   "source": [
    "import pandas as pd\n",
    "import numpy as np\n",
    "import matplotlib.pyplot as plt\n",
    "import seaborn as sns\n",
    "from sklearn import preprocessing\n",
    "from sklearn.model_selection import train_test_split\n",
    "from sklearn.metrics import accuracy_score\n",
    "from sklearn.metrics import confusion_matrix"
   ]
  },
  {
   "cell_type": "code",
   "execution_count": 2,
   "metadata": {},
   "outputs": [],
   "source": [
    "titanic_data=pd.read_csv(\"C:/Users/acer/Downloads/Titanic Data Set/train.csv\")"
   ]
  },
  {
   "cell_type": "code",
   "execution_count": 3,
   "metadata": {},
   "outputs": [
    {
     "data": {
      "text/html": [
       "<div>\n",
       "<style scoped>\n",
       "    .dataframe tbody tr th:only-of-type {\n",
       "        vertical-align: middle;\n",
       "    }\n",
       "\n",
       "    .dataframe tbody tr th {\n",
       "        vertical-align: top;\n",
       "    }\n",
       "\n",
       "    .dataframe thead th {\n",
       "        text-align: right;\n",
       "    }\n",
       "</style>\n",
       "<table border=\"1\" class=\"dataframe\">\n",
       "  <thead>\n",
       "    <tr style=\"text-align: right;\">\n",
       "      <th></th>\n",
       "      <th>PassengerId</th>\n",
       "      <th>Survived</th>\n",
       "      <th>Pclass</th>\n",
       "      <th>Name</th>\n",
       "      <th>Sex</th>\n",
       "      <th>Age</th>\n",
       "      <th>SibSp</th>\n",
       "      <th>Parch</th>\n",
       "      <th>Ticket</th>\n",
       "      <th>Fare</th>\n",
       "      <th>Cabin</th>\n",
       "      <th>Embarked</th>\n",
       "    </tr>\n",
       "  </thead>\n",
       "  <tbody>\n",
       "    <tr>\n",
       "      <th>0</th>\n",
       "      <td>1</td>\n",
       "      <td>0</td>\n",
       "      <td>3</td>\n",
       "      <td>Braund, Mr. Owen Harris</td>\n",
       "      <td>male</td>\n",
       "      <td>22.0</td>\n",
       "      <td>1</td>\n",
       "      <td>0</td>\n",
       "      <td>A/5 21171</td>\n",
       "      <td>7.2500</td>\n",
       "      <td>NaN</td>\n",
       "      <td>S</td>\n",
       "    </tr>\n",
       "    <tr>\n",
       "      <th>1</th>\n",
       "      <td>2</td>\n",
       "      <td>1</td>\n",
       "      <td>1</td>\n",
       "      <td>Cumings, Mrs. John Bradley (Florence Briggs Th...</td>\n",
       "      <td>female</td>\n",
       "      <td>38.0</td>\n",
       "      <td>1</td>\n",
       "      <td>0</td>\n",
       "      <td>PC 17599</td>\n",
       "      <td>71.2833</td>\n",
       "      <td>C85</td>\n",
       "      <td>C</td>\n",
       "    </tr>\n",
       "    <tr>\n",
       "      <th>2</th>\n",
       "      <td>3</td>\n",
       "      <td>1</td>\n",
       "      <td>3</td>\n",
       "      <td>Heikkinen, Miss. Laina</td>\n",
       "      <td>female</td>\n",
       "      <td>26.0</td>\n",
       "      <td>0</td>\n",
       "      <td>0</td>\n",
       "      <td>STON/O2. 3101282</td>\n",
       "      <td>7.9250</td>\n",
       "      <td>NaN</td>\n",
       "      <td>S</td>\n",
       "    </tr>\n",
       "    <tr>\n",
       "      <th>3</th>\n",
       "      <td>4</td>\n",
       "      <td>1</td>\n",
       "      <td>1</td>\n",
       "      <td>Futrelle, Mrs. Jacques Heath (Lily May Peel)</td>\n",
       "      <td>female</td>\n",
       "      <td>35.0</td>\n",
       "      <td>1</td>\n",
       "      <td>0</td>\n",
       "      <td>113803</td>\n",
       "      <td>53.1000</td>\n",
       "      <td>C123</td>\n",
       "      <td>S</td>\n",
       "    </tr>\n",
       "    <tr>\n",
       "      <th>4</th>\n",
       "      <td>5</td>\n",
       "      <td>0</td>\n",
       "      <td>3</td>\n",
       "      <td>Allen, Mr. William Henry</td>\n",
       "      <td>male</td>\n",
       "      <td>35.0</td>\n",
       "      <td>0</td>\n",
       "      <td>0</td>\n",
       "      <td>373450</td>\n",
       "      <td>8.0500</td>\n",
       "      <td>NaN</td>\n",
       "      <td>S</td>\n",
       "    </tr>\n",
       "    <tr>\n",
       "      <th>...</th>\n",
       "      <td>...</td>\n",
       "      <td>...</td>\n",
       "      <td>...</td>\n",
       "      <td>...</td>\n",
       "      <td>...</td>\n",
       "      <td>...</td>\n",
       "      <td>...</td>\n",
       "      <td>...</td>\n",
       "      <td>...</td>\n",
       "      <td>...</td>\n",
       "      <td>...</td>\n",
       "      <td>...</td>\n",
       "    </tr>\n",
       "    <tr>\n",
       "      <th>886</th>\n",
       "      <td>887</td>\n",
       "      <td>0</td>\n",
       "      <td>2</td>\n",
       "      <td>Montvila, Rev. Juozas</td>\n",
       "      <td>male</td>\n",
       "      <td>27.0</td>\n",
       "      <td>0</td>\n",
       "      <td>0</td>\n",
       "      <td>211536</td>\n",
       "      <td>13.0000</td>\n",
       "      <td>NaN</td>\n",
       "      <td>S</td>\n",
       "    </tr>\n",
       "    <tr>\n",
       "      <th>887</th>\n",
       "      <td>888</td>\n",
       "      <td>1</td>\n",
       "      <td>1</td>\n",
       "      <td>Graham, Miss. Margaret Edith</td>\n",
       "      <td>female</td>\n",
       "      <td>19.0</td>\n",
       "      <td>0</td>\n",
       "      <td>0</td>\n",
       "      <td>112053</td>\n",
       "      <td>30.0000</td>\n",
       "      <td>B42</td>\n",
       "      <td>S</td>\n",
       "    </tr>\n",
       "    <tr>\n",
       "      <th>888</th>\n",
       "      <td>889</td>\n",
       "      <td>0</td>\n",
       "      <td>3</td>\n",
       "      <td>Johnston, Miss. Catherine Helen \"Carrie\"</td>\n",
       "      <td>female</td>\n",
       "      <td>NaN</td>\n",
       "      <td>1</td>\n",
       "      <td>2</td>\n",
       "      <td>W./C. 6607</td>\n",
       "      <td>23.4500</td>\n",
       "      <td>NaN</td>\n",
       "      <td>S</td>\n",
       "    </tr>\n",
       "    <tr>\n",
       "      <th>889</th>\n",
       "      <td>890</td>\n",
       "      <td>1</td>\n",
       "      <td>1</td>\n",
       "      <td>Behr, Mr. Karl Howell</td>\n",
       "      <td>male</td>\n",
       "      <td>26.0</td>\n",
       "      <td>0</td>\n",
       "      <td>0</td>\n",
       "      <td>111369</td>\n",
       "      <td>30.0000</td>\n",
       "      <td>C148</td>\n",
       "      <td>C</td>\n",
       "    </tr>\n",
       "    <tr>\n",
       "      <th>890</th>\n",
       "      <td>891</td>\n",
       "      <td>0</td>\n",
       "      <td>3</td>\n",
       "      <td>Dooley, Mr. Patrick</td>\n",
       "      <td>male</td>\n",
       "      <td>32.0</td>\n",
       "      <td>0</td>\n",
       "      <td>0</td>\n",
       "      <td>370376</td>\n",
       "      <td>7.7500</td>\n",
       "      <td>NaN</td>\n",
       "      <td>Q</td>\n",
       "    </tr>\n",
       "  </tbody>\n",
       "</table>\n",
       "<p>891 rows × 12 columns</p>\n",
       "</div>"
      ],
      "text/plain": [
       "     PassengerId  Survived  Pclass  \\\n",
       "0              1         0       3   \n",
       "1              2         1       1   \n",
       "2              3         1       3   \n",
       "3              4         1       1   \n",
       "4              5         0       3   \n",
       "..           ...       ...     ...   \n",
       "886          887         0       2   \n",
       "887          888         1       1   \n",
       "888          889         0       3   \n",
       "889          890         1       1   \n",
       "890          891         0       3   \n",
       "\n",
       "                                                  Name     Sex   Age  SibSp  \\\n",
       "0                              Braund, Mr. Owen Harris    male  22.0      1   \n",
       "1    Cumings, Mrs. John Bradley (Florence Briggs Th...  female  38.0      1   \n",
       "2                               Heikkinen, Miss. Laina  female  26.0      0   \n",
       "3         Futrelle, Mrs. Jacques Heath (Lily May Peel)  female  35.0      1   \n",
       "4                             Allen, Mr. William Henry    male  35.0      0   \n",
       "..                                                 ...     ...   ...    ...   \n",
       "886                              Montvila, Rev. Juozas    male  27.0      0   \n",
       "887                       Graham, Miss. Margaret Edith  female  19.0      0   \n",
       "888           Johnston, Miss. Catherine Helen \"Carrie\"  female   NaN      1   \n",
       "889                              Behr, Mr. Karl Howell    male  26.0      0   \n",
       "890                                Dooley, Mr. Patrick    male  32.0      0   \n",
       "\n",
       "     Parch            Ticket     Fare Cabin Embarked  \n",
       "0        0         A/5 21171   7.2500   NaN        S  \n",
       "1        0          PC 17599  71.2833   C85        C  \n",
       "2        0  STON/O2. 3101282   7.9250   NaN        S  \n",
       "3        0            113803  53.1000  C123        S  \n",
       "4        0            373450   8.0500   NaN        S  \n",
       "..     ...               ...      ...   ...      ...  \n",
       "886      0            211536  13.0000   NaN        S  \n",
       "887      0            112053  30.0000   B42        S  \n",
       "888      2        W./C. 6607  23.4500   NaN        S  \n",
       "889      0            111369  30.0000  C148        C  \n",
       "890      0            370376   7.7500   NaN        Q  \n",
       "\n",
       "[891 rows x 12 columns]"
      ]
     },
     "execution_count": 3,
     "metadata": {},
     "output_type": "execute_result"
    }
   ],
   "source": [
    "titanic_data"
   ]
  },
  {
   "cell_type": "code",
   "execution_count": 4,
   "metadata": {},
   "outputs": [
    {
     "data": {
      "text/plain": [
       "PassengerId      0\n",
       "Survived         0\n",
       "Pclass           0\n",
       "Name             0\n",
       "Sex              0\n",
       "Age            177\n",
       "SibSp            0\n",
       "Parch            0\n",
       "Ticket           0\n",
       "Fare             0\n",
       "Cabin          687\n",
       "Embarked         2\n",
       "dtype: int64"
      ]
     },
     "execution_count": 4,
     "metadata": {},
     "output_type": "execute_result"
    }
   ],
   "source": [
    "titanic_data.isna().sum()"
   ]
  },
  {
   "cell_type": "code",
   "execution_count": 5,
   "metadata": {},
   "outputs": [
    {
     "data": {
      "text/plain": [
       "(891, 12)"
      ]
     },
     "execution_count": 5,
     "metadata": {},
     "output_type": "execute_result"
    }
   ],
   "source": [
    "titanic_data.shape"
   ]
  },
  {
   "cell_type": "code",
   "execution_count": 6,
   "metadata": {},
   "outputs": [
    {
     "data": {
      "text/plain": [
       "PassengerId      int64\n",
       "Survived         int64\n",
       "Pclass           int64\n",
       "Name            object\n",
       "Sex             object\n",
       "Age            float64\n",
       "SibSp            int64\n",
       "Parch            int64\n",
       "Ticket          object\n",
       "Fare           float64\n",
       "Cabin           object\n",
       "Embarked        object\n",
       "dtype: object"
      ]
     },
     "execution_count": 6,
     "metadata": {},
     "output_type": "execute_result"
    }
   ],
   "source": [
    "titanic_data.dtypes"
   ]
  },
  {
   "cell_type": "markdown",
   "metadata": {},
   "source": [
    "##### Cabin is dropped due to multiple null values"
   ]
  },
  {
   "cell_type": "code",
   "execution_count": 7,
   "metadata": {},
   "outputs": [],
   "source": [
    "titanic_data=titanic_data.drop(\"Cabin\",axis=1)"
   ]
  },
  {
   "cell_type": "code",
   "execution_count": 8,
   "metadata": {},
   "outputs": [
    {
     "data": {
      "text/html": [
       "<div>\n",
       "<style scoped>\n",
       "    .dataframe tbody tr th:only-of-type {\n",
       "        vertical-align: middle;\n",
       "    }\n",
       "\n",
       "    .dataframe tbody tr th {\n",
       "        vertical-align: top;\n",
       "    }\n",
       "\n",
       "    .dataframe thead th {\n",
       "        text-align: right;\n",
       "    }\n",
       "</style>\n",
       "<table border=\"1\" class=\"dataframe\">\n",
       "  <thead>\n",
       "    <tr style=\"text-align: right;\">\n",
       "      <th></th>\n",
       "      <th>PassengerId</th>\n",
       "      <th>Survived</th>\n",
       "      <th>Pclass</th>\n",
       "      <th>Name</th>\n",
       "      <th>Sex</th>\n",
       "      <th>Age</th>\n",
       "      <th>SibSp</th>\n",
       "      <th>Parch</th>\n",
       "      <th>Ticket</th>\n",
       "      <th>Fare</th>\n",
       "      <th>Embarked</th>\n",
       "    </tr>\n",
       "  </thead>\n",
       "  <tbody>\n",
       "    <tr>\n",
       "      <th>0</th>\n",
       "      <td>1</td>\n",
       "      <td>0</td>\n",
       "      <td>3</td>\n",
       "      <td>Braund, Mr. Owen Harris</td>\n",
       "      <td>male</td>\n",
       "      <td>22.0</td>\n",
       "      <td>1</td>\n",
       "      <td>0</td>\n",
       "      <td>A/5 21171</td>\n",
       "      <td>7.2500</td>\n",
       "      <td>S</td>\n",
       "    </tr>\n",
       "    <tr>\n",
       "      <th>1</th>\n",
       "      <td>2</td>\n",
       "      <td>1</td>\n",
       "      <td>1</td>\n",
       "      <td>Cumings, Mrs. John Bradley (Florence Briggs Th...</td>\n",
       "      <td>female</td>\n",
       "      <td>38.0</td>\n",
       "      <td>1</td>\n",
       "      <td>0</td>\n",
       "      <td>PC 17599</td>\n",
       "      <td>71.2833</td>\n",
       "      <td>C</td>\n",
       "    </tr>\n",
       "    <tr>\n",
       "      <th>2</th>\n",
       "      <td>3</td>\n",
       "      <td>1</td>\n",
       "      <td>3</td>\n",
       "      <td>Heikkinen, Miss. Laina</td>\n",
       "      <td>female</td>\n",
       "      <td>26.0</td>\n",
       "      <td>0</td>\n",
       "      <td>0</td>\n",
       "      <td>STON/O2. 3101282</td>\n",
       "      <td>7.9250</td>\n",
       "      <td>S</td>\n",
       "    </tr>\n",
       "    <tr>\n",
       "      <th>3</th>\n",
       "      <td>4</td>\n",
       "      <td>1</td>\n",
       "      <td>1</td>\n",
       "      <td>Futrelle, Mrs. Jacques Heath (Lily May Peel)</td>\n",
       "      <td>female</td>\n",
       "      <td>35.0</td>\n",
       "      <td>1</td>\n",
       "      <td>0</td>\n",
       "      <td>113803</td>\n",
       "      <td>53.1000</td>\n",
       "      <td>S</td>\n",
       "    </tr>\n",
       "    <tr>\n",
       "      <th>4</th>\n",
       "      <td>5</td>\n",
       "      <td>0</td>\n",
       "      <td>3</td>\n",
       "      <td>Allen, Mr. William Henry</td>\n",
       "      <td>male</td>\n",
       "      <td>35.0</td>\n",
       "      <td>0</td>\n",
       "      <td>0</td>\n",
       "      <td>373450</td>\n",
       "      <td>8.0500</td>\n",
       "      <td>S</td>\n",
       "    </tr>\n",
       "    <tr>\n",
       "      <th>...</th>\n",
       "      <td>...</td>\n",
       "      <td>...</td>\n",
       "      <td>...</td>\n",
       "      <td>...</td>\n",
       "      <td>...</td>\n",
       "      <td>...</td>\n",
       "      <td>...</td>\n",
       "      <td>...</td>\n",
       "      <td>...</td>\n",
       "      <td>...</td>\n",
       "      <td>...</td>\n",
       "    </tr>\n",
       "    <tr>\n",
       "      <th>886</th>\n",
       "      <td>887</td>\n",
       "      <td>0</td>\n",
       "      <td>2</td>\n",
       "      <td>Montvila, Rev. Juozas</td>\n",
       "      <td>male</td>\n",
       "      <td>27.0</td>\n",
       "      <td>0</td>\n",
       "      <td>0</td>\n",
       "      <td>211536</td>\n",
       "      <td>13.0000</td>\n",
       "      <td>S</td>\n",
       "    </tr>\n",
       "    <tr>\n",
       "      <th>887</th>\n",
       "      <td>888</td>\n",
       "      <td>1</td>\n",
       "      <td>1</td>\n",
       "      <td>Graham, Miss. Margaret Edith</td>\n",
       "      <td>female</td>\n",
       "      <td>19.0</td>\n",
       "      <td>0</td>\n",
       "      <td>0</td>\n",
       "      <td>112053</td>\n",
       "      <td>30.0000</td>\n",
       "      <td>S</td>\n",
       "    </tr>\n",
       "    <tr>\n",
       "      <th>888</th>\n",
       "      <td>889</td>\n",
       "      <td>0</td>\n",
       "      <td>3</td>\n",
       "      <td>Johnston, Miss. Catherine Helen \"Carrie\"</td>\n",
       "      <td>female</td>\n",
       "      <td>NaN</td>\n",
       "      <td>1</td>\n",
       "      <td>2</td>\n",
       "      <td>W./C. 6607</td>\n",
       "      <td>23.4500</td>\n",
       "      <td>S</td>\n",
       "    </tr>\n",
       "    <tr>\n",
       "      <th>889</th>\n",
       "      <td>890</td>\n",
       "      <td>1</td>\n",
       "      <td>1</td>\n",
       "      <td>Behr, Mr. Karl Howell</td>\n",
       "      <td>male</td>\n",
       "      <td>26.0</td>\n",
       "      <td>0</td>\n",
       "      <td>0</td>\n",
       "      <td>111369</td>\n",
       "      <td>30.0000</td>\n",
       "      <td>C</td>\n",
       "    </tr>\n",
       "    <tr>\n",
       "      <th>890</th>\n",
       "      <td>891</td>\n",
       "      <td>0</td>\n",
       "      <td>3</td>\n",
       "      <td>Dooley, Mr. Patrick</td>\n",
       "      <td>male</td>\n",
       "      <td>32.0</td>\n",
       "      <td>0</td>\n",
       "      <td>0</td>\n",
       "      <td>370376</td>\n",
       "      <td>7.7500</td>\n",
       "      <td>Q</td>\n",
       "    </tr>\n",
       "  </tbody>\n",
       "</table>\n",
       "<p>891 rows × 11 columns</p>\n",
       "</div>"
      ],
      "text/plain": [
       "     PassengerId  Survived  Pclass  \\\n",
       "0              1         0       3   \n",
       "1              2         1       1   \n",
       "2              3         1       3   \n",
       "3              4         1       1   \n",
       "4              5         0       3   \n",
       "..           ...       ...     ...   \n",
       "886          887         0       2   \n",
       "887          888         1       1   \n",
       "888          889         0       3   \n",
       "889          890         1       1   \n",
       "890          891         0       3   \n",
       "\n",
       "                                                  Name     Sex   Age  SibSp  \\\n",
       "0                              Braund, Mr. Owen Harris    male  22.0      1   \n",
       "1    Cumings, Mrs. John Bradley (Florence Briggs Th...  female  38.0      1   \n",
       "2                               Heikkinen, Miss. Laina  female  26.0      0   \n",
       "3         Futrelle, Mrs. Jacques Heath (Lily May Peel)  female  35.0      1   \n",
       "4                             Allen, Mr. William Henry    male  35.0      0   \n",
       "..                                                 ...     ...   ...    ...   \n",
       "886                              Montvila, Rev. Juozas    male  27.0      0   \n",
       "887                       Graham, Miss. Margaret Edith  female  19.0      0   \n",
       "888           Johnston, Miss. Catherine Helen \"Carrie\"  female   NaN      1   \n",
       "889                              Behr, Mr. Karl Howell    male  26.0      0   \n",
       "890                                Dooley, Mr. Patrick    male  32.0      0   \n",
       "\n",
       "     Parch            Ticket     Fare Embarked  \n",
       "0        0         A/5 21171   7.2500        S  \n",
       "1        0          PC 17599  71.2833        C  \n",
       "2        0  STON/O2. 3101282   7.9250        S  \n",
       "3        0            113803  53.1000        S  \n",
       "4        0            373450   8.0500        S  \n",
       "..     ...               ...      ...      ...  \n",
       "886      0            211536  13.0000        S  \n",
       "887      0            112053  30.0000        S  \n",
       "888      2        W./C. 6607  23.4500        S  \n",
       "889      0            111369  30.0000        C  \n",
       "890      0            370376   7.7500        Q  \n",
       "\n",
       "[891 rows x 11 columns]"
      ]
     },
     "execution_count": 8,
     "metadata": {},
     "output_type": "execute_result"
    }
   ],
   "source": [
    "titanic_data"
   ]
  },
  {
   "cell_type": "code",
   "execution_count": 9,
   "metadata": {},
   "outputs": [
    {
     "data": {
      "text/plain": [
       "male      577\n",
       "female    314\n",
       "Name: Sex, dtype: int64"
      ]
     },
     "execution_count": 9,
     "metadata": {},
     "output_type": "execute_result"
    }
   ],
   "source": [
    "titanic_data[\"Sex\"].value_counts()"
   ]
  },
  {
   "cell_type": "markdown",
   "metadata": {},
   "source": [
    "### Visualization of Data"
   ]
  },
  {
   "cell_type": "code",
   "execution_count": 10,
   "metadata": {},
   "outputs": [
    {
     "data": {
      "text/plain": [
       "Text(0, 0.5, 'Number of people')"
      ]
     },
     "execution_count": 10,
     "metadata": {},
     "output_type": "execute_result"
    },
    {
     "data": {
      "image/png": "[encoded data removed]",
      "text/plain": [
       "<Figure size 432x432 with 1 Axes>"
      ]
     },
     "metadata": {
      "needs_background": "light"
     },
     "output_type": "display_data"
    }
   ],
   "source": [
    "plt.figure(figsize=(6,6))\n",
    "ax = titanic_data[\"Sex\"].value_counts().plot(kind=\"bar\", color=list('rgbkymc'))\n",
    "plt.xlabel(\"Sex\")\n",
    "plt.ylabel(\"Number of people\")"
   ]
  },
  {
   "cell_type": "code",
   "execution_count": 11,
   "metadata": {},
   "outputs": [
    {
     "data": {
      "text/plain": [
       "<matplotlib.axes._subplots.AxesSubplot at 0x23282d64ec8>"
      ]
     },
     "execution_count": 11,
     "metadata": {},
     "output_type": "execute_result"
    },
    {
     "data": {
      "image/png": "[encoded data removed]",
      "text/plain": [
       "<Figure size 432x432 with 1 Axes>"
      ]
     },
     "metadata": {
      "needs_background": "light"
     },
     "output_type": "display_data"
    }
   ],
   "source": [
    "plt.figure(figsize=(6, 6))\n",
    "sns.set_palette(\"Set2\")\n",
    "sns.countplot('Survived',data=titanic_data)"
   ]
  },
  {
   "cell_type": "code",
   "execution_count": 12,
   "metadata": {},
   "outputs": [
    {
     "data": {
      "text/plain": [
       "<matplotlib.axes._subplots.AxesSubplot at 0x23282e04f88>"
      ]
     },
     "execution_count": 12,
     "metadata": {},
     "output_type": "execute_result"
    },
    {
     "data": {
      "image/png": "[encoded data removed]",
      "text/plain": [
       "<Figure size 432x288 with 1 Axes>"
      ]
     },
     "metadata": {
      "needs_background": "light"
     },
     "output_type": "display_data"
    }
   ],
   "source": [
    "titanic_data['Age'].hist(bins=30,color='pink')"
   ]
  },
  {
   "cell_type": "code",
   "execution_count": 13,
   "metadata": {},
   "outputs": [
    {
     "data": {
      "text/plain": [
       "<matplotlib.axes._subplots.AxesSubplot at 0x23282eea308>"
      ]
     },
     "execution_count": 13,
     "metadata": {},
     "output_type": "execute_result"
    },
    {
     "data": {
      "image/png": "[encoded data removed]",
      "text/plain": [
       "<Figure size 432x432 with 1 Axes>"
      ]
     },
     "metadata": {
      "needs_background": "light"
     },
     "output_type": "display_data"
    }
   ],
   "source": [
    "plt.figure(figsize=(6, 6))\n",
    "sns.countplot('Pclass',data=titanic_data)"
   ]
  },
  {
   "cell_type": "code",
   "execution_count": 14,
   "metadata": {},
   "outputs": [
    {
     "data": {
      "text/plain": [
       "<matplotlib.axes._subplots.AxesSubplot at 0x23282d10e48>"
      ]
     },
     "execution_count": 14,
     "metadata": {},
     "output_type": "execute_result"
    },
    {
     "data": {
      "image/png": "[encoded data removed]",
      "text/plain": [
       "<Figure size 432x432 with 1 Axes>"
      ]
     },
     "metadata": {
      "needs_background": "light"
     },
     "output_type": "display_data"
    }
   ],
   "source": [
    "plt.figure(figsize=(6, 6))\n",
    "sns.countplot('Embarked',data=titanic_data)"
   ]
  },
  {
   "cell_type": "code",
   "execution_count": 15,
   "metadata": {},
   "outputs": [
    {
     "data": {
      "text/plain": [
       "<seaborn.axisgrid.FacetGrid at 0x23282f88a08>"
      ]
     },
     "execution_count": 15,
     "metadata": {},
     "output_type": "execute_result"
    },
    {
     "data": {
      "image/png": "[encoded data removed]",
      "text/plain": [
       "<Figure size 432x216 with 2 Axes>"
      ]
     },
     "metadata": {
      "needs_background": "light"
     },
     "output_type": "display_data"
    }
   ],
   "source": [
    "Survival_of_age = sns.FacetGrid(titanic_data, col='Survived')\n",
    "Survival_of_age.map(plt.hist, 'Age', bins=15)"
   ]
  },
  {
   "cell_type": "code",
   "execution_count": 16,
   "metadata": {},
   "outputs": [
    {
     "name": "stderr",
     "output_type": "stream",
     "text": [
      "C:\\Users\\acer\\Anaconda3\\envs\\ult\\lib\\site-packages\\seaborn\\categorical.py:3669: UserWarning: The `factorplot` function has been renamed to `catplot`. The original name will be removed in a future release. Please update your code. Note that the default `kind` in `factorplot` (`'point'`) has changed `'strip'` in `catplot`.\n",
      "  warnings.warn(msg)\n"
     ]
    },
    {
     "data": {
      "text/plain": [
       "<seaborn.axisgrid.FacetGrid at 0x232830b20c8>"
      ]
     },
     "execution_count": 16,
     "metadata": {},
     "output_type": "execute_result"
    },
    {
     "data": {
      "image/png": "[encoded data removed]",
      "text/plain": [
       "<Figure size 411.875x360 with 1 Axes>"
      ]
     },
     "metadata": {
      "needs_background": "light"
     },
     "output_type": "display_data"
    }
   ],
   "source": [
    "sns.set_palette(\"husl\",8)\n",
    "sns.factorplot('Sex',data=titanic_data,hue='Survived',kind='count')"
   ]
  },
  {
   "cell_type": "code",
   "execution_count": 17,
   "metadata": {},
   "outputs": [
    {
     "data": {
      "text/plain": [
       "<seaborn.axisgrid.FacetGrid at 0x23283178648>"
      ]
     },
     "execution_count": 17,
     "metadata": {},
     "output_type": "execute_result"
    },
    {
     "data": {
      "image/png": "[encoded data removed]",
      "text/plain": [
       "<Figure size 411.875x360 with 1 Axes>"
      ]
     },
     "metadata": {
      "needs_background": "light"
     },
     "output_type": "display_data"
    }
   ],
   "source": [
    "sns.set_palette(\"coolwarm\")\n",
    "sns.factorplot('Pclass',data=titanic_data,hue='Survived',kind='count')"
   ]
  },
  {
   "cell_type": "markdown",
   "metadata": {},
   "source": [
    "### Data Preprocessing "
   ]
  },
  {
   "cell_type": "code",
   "execution_count": 18,
   "metadata": {},
   "outputs": [
    {
     "data": {
      "text/html": [
       "<div>\n",
       "<style scoped>\n",
       "    .dataframe tbody tr th:only-of-type {\n",
       "        vertical-align: middle;\n",
       "    }\n",
       "\n",
       "    .dataframe tbody tr th {\n",
       "        vertical-align: top;\n",
       "    }\n",
       "\n",
       "    .dataframe thead th {\n",
       "        text-align: right;\n",
       "    }\n",
       "</style>\n",
       "<table border=\"1\" class=\"dataframe\">\n",
       "  <thead>\n",
       "    <tr style=\"text-align: right;\">\n",
       "      <th></th>\n",
       "      <th>PassengerId</th>\n",
       "      <th>Survived</th>\n",
       "      <th>Pclass</th>\n",
       "      <th>Name</th>\n",
       "      <th>Sex</th>\n",
       "      <th>Age</th>\n",
       "      <th>SibSp</th>\n",
       "      <th>Parch</th>\n",
       "      <th>Ticket</th>\n",
       "      <th>Fare</th>\n",
       "      <th>Embarked</th>\n",
       "    </tr>\n",
       "  </thead>\n",
       "  <tbody>\n",
       "    <tr>\n",
       "      <th>0</th>\n",
       "      <td>1</td>\n",
       "      <td>0</td>\n",
       "      <td>3</td>\n",
       "      <td>Braund, Mr. Owen Harris</td>\n",
       "      <td>male</td>\n",
       "      <td>22.0</td>\n",
       "      <td>1</td>\n",
       "      <td>0</td>\n",
       "      <td>A/5 21171</td>\n",
       "      <td>7.2500</td>\n",
       "      <td>S</td>\n",
       "    </tr>\n",
       "    <tr>\n",
       "      <th>1</th>\n",
       "      <td>2</td>\n",
       "      <td>1</td>\n",
       "      <td>1</td>\n",
       "      <td>Cumings, Mrs. John Bradley (Florence Briggs Th...</td>\n",
       "      <td>female</td>\n",
       "      <td>38.0</td>\n",
       "      <td>1</td>\n",
       "      <td>0</td>\n",
       "      <td>PC 17599</td>\n",
       "      <td>71.2833</td>\n",
       "      <td>C</td>\n",
       "    </tr>\n",
       "    <tr>\n",
       "      <th>2</th>\n",
       "      <td>3</td>\n",
       "      <td>1</td>\n",
       "      <td>3</td>\n",
       "      <td>Heikkinen, Miss. Laina</td>\n",
       "      <td>female</td>\n",
       "      <td>26.0</td>\n",
       "      <td>0</td>\n",
       "      <td>0</td>\n",
       "      <td>STON/O2. 3101282</td>\n",
       "      <td>7.9250</td>\n",
       "      <td>S</td>\n",
       "    </tr>\n",
       "    <tr>\n",
       "      <th>3</th>\n",
       "      <td>4</td>\n",
       "      <td>1</td>\n",
       "      <td>1</td>\n",
       "      <td>Futrelle, Mrs. Jacques Heath (Lily May Peel)</td>\n",
       "      <td>female</td>\n",
       "      <td>35.0</td>\n",
       "      <td>1</td>\n",
       "      <td>0</td>\n",
       "      <td>113803</td>\n",
       "      <td>53.1000</td>\n",
       "      <td>S</td>\n",
       "    </tr>\n",
       "    <tr>\n",
       "      <th>4</th>\n",
       "      <td>5</td>\n",
       "      <td>0</td>\n",
       "      <td>3</td>\n",
       "      <td>Allen, Mr. William Henry</td>\n",
       "      <td>male</td>\n",
       "      <td>35.0</td>\n",
       "      <td>0</td>\n",
       "      <td>0</td>\n",
       "      <td>373450</td>\n",
       "      <td>8.0500</td>\n",
       "      <td>S</td>\n",
       "    </tr>\n",
       "    <tr>\n",
       "      <th>...</th>\n",
       "      <td>...</td>\n",
       "      <td>...</td>\n",
       "      <td>...</td>\n",
       "      <td>...</td>\n",
       "      <td>...</td>\n",
       "      <td>...</td>\n",
       "      <td>...</td>\n",
       "      <td>...</td>\n",
       "      <td>...</td>\n",
       "      <td>...</td>\n",
       "      <td>...</td>\n",
       "    </tr>\n",
       "    <tr>\n",
       "      <th>886</th>\n",
       "      <td>887</td>\n",
       "      <td>0</td>\n",
       "      <td>2</td>\n",
       "      <td>Montvila, Rev. Juozas</td>\n",
       "      <td>male</td>\n",
       "      <td>27.0</td>\n",
       "      <td>0</td>\n",
       "      <td>0</td>\n",
       "      <td>211536</td>\n",
       "      <td>13.0000</td>\n",
       "      <td>S</td>\n",
       "    </tr>\n",
       "    <tr>\n",
       "      <th>887</th>\n",
       "      <td>888</td>\n",
       "      <td>1</td>\n",
       "      <td>1</td>\n",
       "      <td>Graham, Miss. Margaret Edith</td>\n",
       "      <td>female</td>\n",
       "      <td>19.0</td>\n",
       "      <td>0</td>\n",
       "      <td>0</td>\n",
       "      <td>112053</td>\n",
       "      <td>30.0000</td>\n",
       "      <td>S</td>\n",
       "    </tr>\n",
       "    <tr>\n",
       "      <th>888</th>\n",
       "      <td>889</td>\n",
       "      <td>0</td>\n",
       "      <td>3</td>\n",
       "      <td>Johnston, Miss. Catherine Helen \"Carrie\"</td>\n",
       "      <td>female</td>\n",
       "      <td>NaN</td>\n",
       "      <td>1</td>\n",
       "      <td>2</td>\n",
       "      <td>W./C. 6607</td>\n",
       "      <td>23.4500</td>\n",
       "      <td>S</td>\n",
       "    </tr>\n",
       "    <tr>\n",
       "      <th>889</th>\n",
       "      <td>890</td>\n",
       "      <td>1</td>\n",
       "      <td>1</td>\n",
       "      <td>Behr, Mr. Karl Howell</td>\n",
       "      <td>male</td>\n",
       "      <td>26.0</td>\n",
       "      <td>0</td>\n",
       "      <td>0</td>\n",
       "      <td>111369</td>\n",
       "      <td>30.0000</td>\n",
       "      <td>C</td>\n",
       "    </tr>\n",
       "    <tr>\n",
       "      <th>890</th>\n",
       "      <td>891</td>\n",
       "      <td>0</td>\n",
       "      <td>3</td>\n",
       "      <td>Dooley, Mr. Patrick</td>\n",
       "      <td>male</td>\n",
       "      <td>32.0</td>\n",
       "      <td>0</td>\n",
       "      <td>0</td>\n",
       "      <td>370376</td>\n",
       "      <td>7.7500</td>\n",
       "      <td>Q</td>\n",
       "    </tr>\n",
       "  </tbody>\n",
       "</table>\n",
       "<p>891 rows × 11 columns</p>\n",
       "</div>"
      ],
      "text/plain": [
       "     PassengerId  Survived  Pclass  \\\n",
       "0              1         0       3   \n",
       "1              2         1       1   \n",
       "2              3         1       3   \n",
       "3              4         1       1   \n",
       "4              5         0       3   \n",
       "..           ...       ...     ...   \n",
       "886          887         0       2   \n",
       "887          888         1       1   \n",
       "888          889         0       3   \n",
       "889          890         1       1   \n",
       "890          891         0       3   \n",
       "\n",
       "                                                  Name     Sex   Age  SibSp  \\\n",
       "0                              Braund, Mr. Owen Harris    male  22.0      1   \n",
       "1    Cumings, Mrs. John Bradley (Florence Briggs Th...  female  38.0      1   \n",
       "2                               Heikkinen, Miss. Laina  female  26.0      0   \n",
       "3         Futrelle, Mrs. Jacques Heath (Lily May Peel)  female  35.0      1   \n",
       "4                             Allen, Mr. William Henry    male  35.0      0   \n",
       "..                                                 ...     ...   ...    ...   \n",
       "886                              Montvila, Rev. Juozas    male  27.0      0   \n",
       "887                       Graham, Miss. Margaret Edith  female  19.0      0   \n",
       "888           Johnston, Miss. Catherine Helen \"Carrie\"  female   NaN      1   \n",
       "889                              Behr, Mr. Karl Howell    male  26.0      0   \n",
       "890                                Dooley, Mr. Patrick    male  32.0      0   \n",
       "\n",
       "     Parch            Ticket     Fare Embarked  \n",
       "0        0         A/5 21171   7.2500        S  \n",
       "1        0          PC 17599  71.2833        C  \n",
       "2        0  STON/O2. 3101282   7.9250        S  \n",
       "3        0            113803  53.1000        S  \n",
       "4        0            373450   8.0500        S  \n",
       "..     ...               ...      ...      ...  \n",
       "886      0            211536  13.0000        S  \n",
       "887      0            112053  30.0000        S  \n",
       "888      2        W./C. 6607  23.4500        S  \n",
       "889      0            111369  30.0000        C  \n",
       "890      0            370376   7.7500        Q  \n",
       "\n",
       "[891 rows x 11 columns]"
      ]
     },
     "execution_count": 18,
     "metadata": {},
     "output_type": "execute_result"
    }
   ],
   "source": [
    "titanic_data"
   ]
  },
  {
   "cell_type": "markdown",
   "metadata": {},
   "source": [
    "#### Dropping Columns which has minimum effect on survival of a person"
   ]
  },
  {
   "cell_type": "code",
   "execution_count": 19,
   "metadata": {},
   "outputs": [],
   "source": [
    "titanic_data=titanic_data.drop([\"Name\",\"PassengerId\",\"Ticket\"],axis=1)"
   ]
  },
  {
   "cell_type": "code",
   "execution_count": 20,
   "metadata": {},
   "outputs": [
    {
     "data": {
      "text/plain": [
       "<matplotlib.axes._subplots.AxesSubplot at 0x2328320ff88>"
      ]
     },
     "execution_count": 20,
     "metadata": {},
     "output_type": "execute_result"
    },
    {
     "data": {
      "image/png": "[encoded data removed]",
      "text/plain": [
       "<Figure size 432x288 with 2 Axes>"
      ]
     },
     "metadata": {
      "needs_background": "light"
     },
     "output_type": "display_data"
    }
   ],
   "source": [
    "correlation=titanic_data.corr()\n",
    "sns.heatmap(correlation)"
   ]
  },
  {
   "cell_type": "markdown",
   "metadata": {},
   "source": [
    "#### Data Preprocessing"
   ]
  },
  {
   "cell_type": "code",
   "execution_count": 21,
   "metadata": {},
   "outputs": [
    {
     "data": {
      "text/plain": [
       "Survived      0\n",
       "Pclass        0\n",
       "Sex           0\n",
       "Age         177\n",
       "SibSp         0\n",
       "Parch         0\n",
       "Fare          0\n",
       "Embarked      2\n",
       "dtype: int64"
      ]
     },
     "execution_count": 21,
     "metadata": {},
     "output_type": "execute_result"
    }
   ],
   "source": [
    "titanic_data.isna().sum()"
   ]
  },
  {
   "cell_type": "code",
   "execution_count": 22,
   "metadata": {},
   "outputs": [],
   "source": [
    "titanic_data=titanic_data.dropna(subset=[\"Embarked\"])"
   ]
  },
  {
   "cell_type": "code",
   "execution_count": 23,
   "metadata": {},
   "outputs": [],
   "source": [
    "mean_age=titanic_data[\"Age\"].mean()"
   ]
  },
  {
   "cell_type": "code",
   "execution_count": 24,
   "metadata": {},
   "outputs": [],
   "source": [
    "titanic_data[\"Age\"].fillna(mean_age,inplace=True)"
   ]
  },
  {
   "cell_type": "code",
   "execution_count": 25,
   "metadata": {},
   "outputs": [
    {
     "data": {
      "text/plain": [
       "Survived    0\n",
       "Pclass      0\n",
       "Sex         0\n",
       "Age         0\n",
       "SibSp       0\n",
       "Parch       0\n",
       "Fare        0\n",
       "Embarked    0\n",
       "dtype: int64"
      ]
     },
     "execution_count": 25,
     "metadata": {},
     "output_type": "execute_result"
    }
   ],
   "source": [
    "titanic_data.isna().sum()"
   ]
  },
  {
   "cell_type": "code",
   "execution_count": 26,
   "metadata": {},
   "outputs": [
    {
     "data": {
      "text/plain": [
       "Survived      int64\n",
       "Pclass        int64\n",
       "Sex          object\n",
       "Age         float64\n",
       "SibSp         int64\n",
       "Parch         int64\n",
       "Fare        float64\n",
       "Embarked     object\n",
       "dtype: object"
      ]
     },
     "execution_count": 26,
     "metadata": {},
     "output_type": "execute_result"
    }
   ],
   "source": [
    "titanic_data.dtypes"
   ]
  },
  {
   "cell_type": "code",
   "execution_count": 27,
   "metadata": {},
   "outputs": [],
   "source": [
    "label=preprocessing.LabelEncoder()\n",
    "titanic_data[\"Sex\"]=label.fit_transform(titanic_data[\"Sex\"])\n",
    "titanic_data[\"Embarked\"]=label.fit_transform(titanic_data[\"Embarked\"])"
   ]
  },
  {
   "cell_type": "code",
   "execution_count": 28,
   "metadata": {},
   "outputs": [],
   "source": [
    "x=titanic_data.drop(\"Survived\",axis=1)"
   ]
  },
  {
   "cell_type": "code",
   "execution_count": 29,
   "metadata": {},
   "outputs": [],
   "source": [
    "y=titanic_data[\"Survived\"]"
   ]
  },
  {
   "cell_type": "code",
   "execution_count": 30,
   "metadata": {},
   "outputs": [],
   "source": [
    "minmax=preprocessing.MinMaxScaler()\n",
    "x=minmax.fit_transform(x)"
   ]
  },
  {
   "cell_type": "code",
   "execution_count": 54,
   "metadata": {},
   "outputs": [],
   "source": [
    "X_train,X_test,y_train,y_test = train_test_split(x,y,test_size = 0.25,random_state = 0,stratify=y)"
   ]
  },
  {
   "cell_type": "markdown",
   "metadata": {},
   "source": [
    "#### Model Implementation and Evaluation"
   ]
  },
  {
   "cell_type": "code",
   "execution_count": 55,
   "metadata": {},
   "outputs": [
    {
     "data": {
      "text/plain": [
       "LogisticRegression(C=1.0, class_weight=None, dual=False, fit_intercept=True,\n",
       "                   intercept_scaling=1, l1_ratio=None, max_iter=100,\n",
       "                   multi_class='auto', n_jobs=None, penalty='l2',\n",
       "                   random_state=None, solver='lbfgs', tol=0.0001, verbose=0,\n",
       "                   warm_start=False)"
      ]
     },
     "execution_count": 55,
     "metadata": {},
     "output_type": "execute_result"
    }
   ],
   "source": [
    "from sklearn.linear_model import LogisticRegression\n",
    "\n",
    "lr=LogisticRegression()\n",
    "lr.fit(X_train,y_train)"
   ]
  },
  {
   "cell_type": "code",
   "execution_count": 56,
   "metadata": {},
   "outputs": [],
   "source": [
    "y_lr=lr.predict(X_test)"
   ]
  },
  {
   "cell_type": "code",
   "execution_count": 57,
   "metadata": {},
   "outputs": [
    {
     "name": "stdout",
     "output_type": "stream",
     "text": [
      "Accuracy of model is: 80.26905829596413\n"
     ]
    }
   ],
   "source": [
    "print(\"Accuracy of model is:\",accuracy_score(y_test,y_lr)*100)"
   ]
  },
  {
   "cell_type": "code",
   "execution_count": 58,
   "metadata": {},
   "outputs": [
    {
     "name": "stdout",
     "output_type": "stream",
     "text": [
      "The classification matrix for data is:\n"
     ]
    },
    {
     "data": {
      "text/plain": [
       "array([[119,  19],\n",
       "       [ 25,  60]], dtype=int64)"
      ]
     },
     "execution_count": 58,
     "metadata": {},
     "output_type": "execute_result"
    }
   ],
   "source": [
    "print(\"The classification matrix for data is:\")\n",
    "confusion_matrix(y_test, y_lr)"
   ]
  },
  {
   "cell_type": "code",
   "execution_count": 59,
   "metadata": {},
   "outputs": [
    {
     "data": {
      "text/plain": [
       "RandomForestClassifier(bootstrap=True, ccp_alpha=0.0, class_weight=None,\n",
       "                       criterion='gini', max_depth=None, max_features='auto',\n",
       "                       max_leaf_nodes=None, max_samples=None,\n",
       "                       min_impurity_decrease=0.0, min_impurity_split=None,\n",
       "                       min_samples_leaf=1, min_samples_split=2,\n",
       "                       min_weight_fraction_leaf=0.0, n_estimators=100,\n",
       "                       n_jobs=None, oob_score=False, random_state=None,\n",
       "                       verbose=0, warm_start=False)"
      ]
     },
     "execution_count": 59,
     "metadata": {},
     "output_type": "execute_result"
    }
   ],
   "source": [
    "from sklearn.ensemble import RandomForestClassifier\n",
    "rf = RandomForestClassifier()\n",
    "\n",
    "rf.fit(X_train, y_train)"
   ]
  },
  {
   "cell_type": "code",
   "execution_count": 60,
   "metadata": {},
   "outputs": [],
   "source": [
    "y_rf=rf.predict(X_test)"
   ]
  },
  {
   "cell_type": "code",
   "execution_count": 61,
   "metadata": {},
   "outputs": [
    {
     "name": "stdout",
     "output_type": "stream",
     "text": [
      "Accuracy of model is: 82.95964125560538\n"
     ]
    }
   ],
   "source": [
    "print(\"Accuracy of model is:\",accuracy_score(y_test,y_rf)*100)"
   ]
  },
  {
   "cell_type": "code",
   "execution_count": 52,
   "metadata": {},
   "outputs": [
    {
     "name": "stdout",
     "output_type": "stream",
     "text": [
      "The classification matrix for data is:\n"
     ]
    },
    {
     "data": {
      "text/plain": [
       "array([[113,  19],\n",
       "       [ 28,  63]], dtype=int64)"
      ]
     },
     "execution_count": 52,
     "metadata": {},
     "output_type": "execute_result"
    }
   ],
   "source": [
    "print(\"The classification matrix for data is:\")\n",
    "confusion_matrix(y_test, y_rf)"
   ]
  },
  {
   "cell_type": "code",
   "execution_count": 69,
   "metadata": {},
   "outputs": [],
   "source": [
    "from sklearn.neural_network import MLPClassifier\n",
    "\n",
    "mlp=clf = MLPClassifier(hidden_layer_sizes=(100,80,40), max_iter=500, alpha=0.01,\n",
    "                     solver='sgd', verbose=10 )"
   ]
  },
  {
   "cell_type": "code",
   "execution_count": 70,
   "metadata": {},
   "outputs": [
    {
     "name": "stdout",
     "output_type": "stream",
     "text": [
      "Iteration 1, loss = 0.70992050\n",
      "Iteration 2, loss = 0.70557635\n",
      "Iteration 3, loss = 0.69931349\n",
      "Iteration 4, loss = 0.69196672\n",
      "Iteration 5, loss = 0.68442978\n",
      "Iteration 6, loss = 0.67732685\n",
      "Iteration 7, loss = 0.66983388\n",
      "Iteration 8, loss = 0.66303108\n",
      "Iteration 9, loss = 0.65642103\n",
      "Iteration 10, loss = 0.65039687\n",
      "Iteration 11, loss = 0.64460118\n",
      "Iteration 12, loss = 0.63947595\n",
      "Iteration 13, loss = 0.63459807\n",
      "Iteration 14, loss = 0.63039086\n",
      "Iteration 15, loss = 0.62684124\n",
      "Iteration 16, loss = 0.62324090\n",
      "Iteration 17, loss = 0.62059260\n",
      "Iteration 18, loss = 0.61786470\n",
      "Iteration 19, loss = 0.61571720\n",
      "Iteration 20, loss = 0.61343248\n",
      "Iteration 21, loss = 0.61159511\n",
      "Iteration 22, loss = 0.60975928\n",
      "Iteration 23, loss = 0.60797214\n",
      "Iteration 24, loss = 0.60637986\n",
      "Iteration 25, loss = 0.60478692\n",
      "Iteration 26, loss = 0.60333968\n",
      "Iteration 27, loss = 0.60182848\n",
      "Iteration 28, loss = 0.60040861\n",
      "Iteration 29, loss = 0.59900715\n",
      "Iteration 30, loss = 0.59765147\n",
      "Iteration 31, loss = 0.59627735\n",
      "Iteration 32, loss = 0.59497266\n",
      "Iteration 33, loss = 0.59364931\n",
      "Iteration 34, loss = 0.59226775\n",
      "Iteration 35, loss = 0.59099326\n",
      "Iteration 36, loss = 0.58975241\n",
      "Iteration 37, loss = 0.58843005\n",
      "Iteration 38, loss = 0.58719372\n",
      "Iteration 39, loss = 0.58596095\n",
      "Iteration 40, loss = 0.58471459\n",
      "Iteration 41, loss = 0.58346938\n",
      "Iteration 42, loss = 0.58232884\n",
      "Iteration 43, loss = 0.58115856\n",
      "Iteration 44, loss = 0.58004661\n",
      "Iteration 45, loss = 0.57898492\n",
      "Iteration 46, loss = 0.57785698\n",
      "Iteration 47, loss = 0.57679828\n",
      "Iteration 48, loss = 0.57572012\n",
      "Iteration 49, loss = 0.57468034\n",
      "Iteration 50, loss = 0.57358975\n",
      "Iteration 51, loss = 0.57260597\n",
      "Iteration 52, loss = 0.57151903\n",
      "Iteration 53, loss = 0.57049056\n",
      "Iteration 54, loss = 0.56952551\n",
      "Iteration 55, loss = 0.56847313\n",
      "Iteration 56, loss = 0.56746314\n",
      "Iteration 57, loss = 0.56648537\n",
      "Iteration 58, loss = 0.56556918\n",
      "Iteration 59, loss = 0.56450877\n",
      "Iteration 60, loss = 0.56353387\n",
      "Iteration 61, loss = 0.56260916\n",
      "Iteration 62, loss = 0.56162735\n",
      "Iteration 63, loss = 0.56068426\n",
      "Iteration 64, loss = 0.55976078\n",
      "Iteration 65, loss = 0.55879439\n",
      "Iteration 66, loss = 0.55786987\n",
      "Iteration 67, loss = 0.55695257\n",
      "Iteration 68, loss = 0.55606713\n",
      "Iteration 69, loss = 0.55517215\n",
      "Iteration 70, loss = 0.55426534\n",
      "Iteration 71, loss = 0.55336707\n",
      "Iteration 72, loss = 0.55248069\n",
      "Iteration 73, loss = 0.55157027\n",
      "Iteration 74, loss = 0.55071523\n",
      "Iteration 75, loss = 0.54979627\n",
      "Iteration 76, loss = 0.54908876\n",
      "Iteration 77, loss = 0.54807329\n",
      "Iteration 78, loss = 0.54723158\n",
      "Iteration 79, loss = 0.54629990\n",
      "Iteration 80, loss = 0.54545593\n",
      "Iteration 81, loss = 0.54466902\n",
      "Iteration 82, loss = 0.54383298\n",
      "Iteration 83, loss = 0.54301014\n",
      "Iteration 84, loss = 0.54223545\n",
      "Iteration 85, loss = 0.54138336\n",
      "Iteration 86, loss = 0.54064123\n",
      "Iteration 87, loss = 0.53988199\n",
      "Iteration 88, loss = 0.53911220\n",
      "Iteration 89, loss = 0.53839872\n",
      "Iteration 90, loss = 0.53760433\n",
      "Iteration 91, loss = 0.53692547\n",
      "Iteration 92, loss = 0.53610543\n",
      "Iteration 93, loss = 0.53534316\n",
      "Iteration 94, loss = 0.53457544\n",
      "Iteration 95, loss = 0.53385451\n",
      "Iteration 96, loss = 0.53307751\n",
      "Iteration 97, loss = 0.53238818\n",
      "Iteration 98, loss = 0.53164167\n",
      "Iteration 99, loss = 0.53088416\n",
      "Iteration 100, loss = 0.53017590\n",
      "Iteration 101, loss = 0.52951915\n",
      "Iteration 102, loss = 0.52877720\n",
      "Iteration 103, loss = 0.52807929\n",
      "Iteration 104, loss = 0.52747574\n",
      "Iteration 105, loss = 0.52679010\n",
      "Iteration 106, loss = 0.52610778\n",
      "Iteration 107, loss = 0.52546101\n",
      "Iteration 108, loss = 0.52479210\n",
      "Iteration 109, loss = 0.52415114\n",
      "Iteration 110, loss = 0.52349432\n",
      "Iteration 111, loss = 0.52285040\n",
      "Iteration 112, loss = 0.52226100\n",
      "Iteration 113, loss = 0.52162261\n",
      "Iteration 114, loss = 0.52100002\n",
      "Iteration 115, loss = 0.52038419\n",
      "Iteration 116, loss = 0.51979300\n",
      "Iteration 117, loss = 0.51920933\n",
      "Iteration 118, loss = 0.51864190\n",
      "Iteration 119, loss = 0.51805121\n",
      "Iteration 120, loss = 0.51748314\n",
      "Iteration 121, loss = 0.51695984\n",
      "Iteration 122, loss = 0.51643601\n",
      "Iteration 123, loss = 0.51587635\n",
      "Iteration 124, loss = 0.51540384\n",
      "Iteration 125, loss = 0.51488033\n",
      "Iteration 126, loss = 0.51440894\n",
      "Iteration 127, loss = 0.51386893\n",
      "Iteration 128, loss = 0.51343227\n",
      "Iteration 129, loss = 0.51300564\n",
      "Iteration 130, loss = 0.51244170\n",
      "Iteration 131, loss = 0.51198034\n",
      "Iteration 132, loss = 0.51151193\n",
      "Iteration 133, loss = 0.51107245\n",
      "Iteration 134, loss = 0.51060586\n",
      "Iteration 135, loss = 0.51023316\n",
      "Iteration 136, loss = 0.50975843\n",
      "Iteration 137, loss = 0.50936359\n",
      "Iteration 138, loss = 0.50884928\n",
      "Iteration 139, loss = 0.50850499\n",
      "Iteration 140, loss = 0.50805463\n",
      "Iteration 141, loss = 0.50763551\n",
      "Iteration 142, loss = 0.50725872\n",
      "Iteration 143, loss = 0.50687147\n",
      "Iteration 144, loss = 0.50642190\n",
      "Iteration 145, loss = 0.50602749\n",
      "Iteration 146, loss = 0.50562132\n",
      "Iteration 147, loss = 0.50517303\n",
      "Iteration 148, loss = 0.50480978\n",
      "Iteration 149, loss = 0.50442342\n",
      "Iteration 150, loss = 0.50408141\n",
      "Iteration 151, loss = 0.50362809\n",
      "Iteration 152, loss = 0.50348528\n",
      "Iteration 153, loss = 0.50296372\n",
      "Iteration 154, loss = 0.50259311\n",
      "Iteration 155, loss = 0.50223700\n",
      "Iteration 156, loss = 0.50191780\n",
      "Iteration 157, loss = 0.50153035\n",
      "Iteration 158, loss = 0.50121749\n",
      "Iteration 159, loss = 0.50086394\n",
      "Iteration 160, loss = 0.50050475\n",
      "Iteration 161, loss = 0.50020306\n",
      "Iteration 162, loss = 0.49983546\n",
      "Iteration 163, loss = 0.49951704\n",
      "Iteration 164, loss = 0.49921232\n",
      "Iteration 165, loss = 0.49891445\n",
      "Iteration 166, loss = 0.49866841\n",
      "Iteration 167, loss = 0.49827919\n",
      "Iteration 168, loss = 0.49803332\n",
      "Iteration 169, loss = 0.49768119\n",
      "Iteration 170, loss = 0.49741358\n",
      "Iteration 171, loss = 0.49711751\n",
      "Iteration 172, loss = 0.49681755\n",
      "Iteration 173, loss = 0.49654337\n",
      "Iteration 174, loss = 0.49626348\n",
      "Iteration 175, loss = 0.49600315\n",
      "Iteration 176, loss = 0.49574709\n",
      "Iteration 177, loss = 0.49550911\n",
      "Iteration 178, loss = 0.49526899\n",
      "Iteration 179, loss = 0.49506408\n",
      "Iteration 180, loss = 0.49474558\n",
      "Iteration 181, loss = 0.49450891\n",
      "Iteration 182, loss = 0.49418003\n",
      "Iteration 183, loss = 0.49392341\n",
      "Iteration 184, loss = 0.49360738\n",
      "Iteration 185, loss = 0.49334617\n",
      "Iteration 186, loss = 0.49311899\n",
      "Iteration 187, loss = 0.49279551\n",
      "Iteration 188, loss = 0.49254796\n",
      "Iteration 189, loss = 0.49230722\n",
      "Iteration 190, loss = 0.49207662\n",
      "Iteration 191, loss = 0.49181971\n",
      "Iteration 192, loss = 0.49162521\n",
      "Iteration 193, loss = 0.49134869\n",
      "Iteration 194, loss = 0.49120940\n",
      "Iteration 195, loss = 0.49095798\n",
      "Iteration 196, loss = 0.49074582\n",
      "Iteration 197, loss = 0.49059148\n",
      "Iteration 198, loss = 0.49034711\n",
      "Iteration 199, loss = 0.49011335\n",
      "Iteration 200, loss = 0.48987765\n",
      "Iteration 201, loss = 0.48965201\n",
      "Iteration 202, loss = 0.48944322\n",
      "Iteration 203, loss = 0.48919361\n",
      "Iteration 204, loss = 0.48909006\n",
      "Iteration 205, loss = 0.48879780\n",
      "Iteration 206, loss = 0.48865699\n",
      "Iteration 207, loss = 0.48835993\n",
      "Iteration 208, loss = 0.48816079\n",
      "Iteration 209, loss = 0.48796448\n",
      "Iteration 210, loss = 0.48772107\n",
      "Iteration 211, loss = 0.48751165\n",
      "Iteration 212, loss = 0.48731663\n",
      "Iteration 213, loss = 0.48710748\n",
      "Iteration 214, loss = 0.48692019\n",
      "Iteration 215, loss = 0.48672637\n",
      "Iteration 216, loss = 0.48662134\n",
      "Iteration 217, loss = 0.48634661\n",
      "Iteration 218, loss = 0.48612145\n",
      "Iteration 219, loss = 0.48595913\n",
      "Iteration 220, loss = 0.48574763\n",
      "Iteration 221, loss = 0.48559723\n",
      "Iteration 222, loss = 0.48539665\n",
      "Iteration 223, loss = 0.48515665\n",
      "Iteration 224, loss = 0.48497479\n",
      "Iteration 225, loss = 0.48473851\n",
      "Iteration 226, loss = 0.48459459\n",
      "Iteration 227, loss = 0.48441318\n",
      "Iteration 228, loss = 0.48435008\n",
      "Iteration 229, loss = 0.48411659\n",
      "Iteration 230, loss = 0.48385892\n",
      "Iteration 231, loss = 0.48361180\n",
      "Iteration 232, loss = 0.48340781\n",
      "Iteration 233, loss = 0.48329419\n",
      "Iteration 234, loss = 0.48314444\n",
      "Iteration 235, loss = 0.48289190\n",
      "Iteration 236, loss = 0.48270616\n",
      "Iteration 237, loss = 0.48263089\n",
      "Iteration 238, loss = 0.48237989\n",
      "Iteration 239, loss = 0.48221654\n",
      "Iteration 240, loss = 0.48204688\n",
      "Iteration 241, loss = 0.48189968\n",
      "Iteration 242, loss = 0.48171859\n",
      "Iteration 243, loss = 0.48152622\n",
      "Iteration 244, loss = 0.48137638\n",
      "Iteration 245, loss = 0.48118206\n",
      "Iteration 246, loss = 0.48101978\n",
      "Iteration 247, loss = 0.48088133\n",
      "Iteration 248, loss = 0.48065824\n",
      "Iteration 249, loss = 0.48048848\n",
      "Iteration 250, loss = 0.48032242\n",
      "Iteration 251, loss = 0.48015817\n",
      "Iteration 252, loss = 0.48002239\n",
      "Iteration 253, loss = 0.47983858\n",
      "Iteration 254, loss = 0.47969859\n",
      "Iteration 255, loss = 0.47947589\n",
      "Iteration 256, loss = 0.47932070\n",
      "Iteration 257, loss = 0.47912055\n",
      "Iteration 258, loss = 0.47899467\n",
      "Iteration 259, loss = 0.47884505\n",
      "Iteration 260, loss = 0.47866653\n",
      "Iteration 261, loss = 0.47849540\n",
      "Iteration 262, loss = 0.47834966\n",
      "Iteration 263, loss = 0.47819916\n",
      "Iteration 264, loss = 0.47803985\n",
      "Iteration 265, loss = 0.47792259\n",
      "Iteration 266, loss = 0.47776714\n",
      "Iteration 267, loss = 0.47760547\n",
      "Iteration 268, loss = 0.47751380\n",
      "Iteration 269, loss = 0.47730652\n",
      "Iteration 270, loss = 0.47718328\n",
      "Iteration 271, loss = 0.47704191\n",
      "Iteration 272, loss = 0.47696296\n",
      "Iteration 273, loss = 0.47686074\n",
      "Iteration 274, loss = 0.47667151\n",
      "Iteration 275, loss = 0.47650358\n",
      "Iteration 276, loss = 0.47636732\n",
      "Iteration 277, loss = 0.47620529\n",
      "Iteration 278, loss = 0.47601946\n",
      "Iteration 279, loss = 0.47591831\n",
      "Iteration 280, loss = 0.47575256\n",
      "Iteration 281, loss = 0.47563101\n",
      "Iteration 282, loss = 0.47550092\n",
      "Iteration 283, loss = 0.47537422\n",
      "Iteration 284, loss = 0.47529851\n",
      "Iteration 285, loss = 0.47509493\n",
      "Iteration 286, loss = 0.47495691\n",
      "Iteration 287, loss = 0.47479475\n",
      "Iteration 288, loss = 0.47468861\n",
      "Iteration 289, loss = 0.47459545\n",
      "Iteration 290, loss = 0.47446768\n",
      "Iteration 291, loss = 0.47428716\n",
      "Iteration 292, loss = 0.47411124\n",
      "Iteration 293, loss = 0.47402322\n",
      "Iteration 294, loss = 0.47389692\n",
      "Iteration 295, loss = 0.47377114\n",
      "Iteration 296, loss = 0.47363820\n",
      "Iteration 297, loss = 0.47350793\n",
      "Iteration 298, loss = 0.47353031\n",
      "Iteration 299, loss = 0.47327223\n",
      "Iteration 300, loss = 0.47314900\n",
      "Iteration 301, loss = 0.47305832\n",
      "Iteration 302, loss = 0.47293985\n",
      "Iteration 303, loss = 0.47282041\n",
      "Iteration 304, loss = 0.47262619\n",
      "Iteration 305, loss = 0.47249858\n",
      "Iteration 306, loss = 0.47243998\n",
      "Iteration 307, loss = 0.47244116\n",
      "Iteration 308, loss = 0.47219079\n",
      "Iteration 309, loss = 0.47204453\n",
      "Iteration 310, loss = 0.47193151\n",
      "Iteration 311, loss = 0.47197519\n",
      "Iteration 312, loss = 0.47164638\n",
      "Iteration 313, loss = 0.47154871\n",
      "Iteration 314, loss = 0.47150448\n",
      "Iteration 315, loss = 0.47127191\n",
      "Iteration 316, loss = 0.47115350\n",
      "Iteration 317, loss = 0.47105760\n",
      "Iteration 318, loss = 0.47091584\n",
      "Iteration 319, loss = 0.47085549\n",
      "Iteration 320, loss = 0.47068169\n",
      "Iteration 321, loss = 0.47056172\n",
      "Iteration 322, loss = 0.47043474\n",
      "Iteration 323, loss = 0.47027462\n",
      "Iteration 324, loss = 0.47019553\n",
      "Iteration 325, loss = 0.47005185\n",
      "Iteration 326, loss = 0.46993680\n",
      "Iteration 327, loss = 0.46983161\n",
      "Iteration 328, loss = 0.46971964\n",
      "Iteration 329, loss = 0.46957685\n",
      "Iteration 330, loss = 0.46945362\n",
      "Iteration 331, loss = 0.46933944\n",
      "Iteration 332, loss = 0.46927383\n",
      "Iteration 333, loss = 0.46922548\n",
      "Iteration 334, loss = 0.46900117\n",
      "Iteration 335, loss = 0.46886590\n",
      "Iteration 336, loss = 0.46873107\n",
      "Iteration 337, loss = 0.46859809\n",
      "Iteration 338, loss = 0.46850742\n",
      "Iteration 339, loss = 0.46839753\n",
      "Iteration 340, loss = 0.46825613\n",
      "Iteration 341, loss = 0.46812527\n",
      "Iteration 342, loss = 0.46801101\n",
      "Iteration 343, loss = 0.46792307\n",
      "Iteration 344, loss = 0.46780879\n",
      "Iteration 345, loss = 0.46768019\n",
      "Iteration 346, loss = 0.46757388\n",
      "Iteration 347, loss = 0.46745796\n",
      "Iteration 348, loss = 0.46733512\n",
      "Iteration 349, loss = 0.46721569\n",
      "Iteration 350, loss = 0.46719390\n",
      "Iteration 351, loss = 0.46698309\n",
      "Iteration 352, loss = 0.46689052\n",
      "Iteration 353, loss = 0.46691250\n",
      "Iteration 354, loss = 0.46673853\n",
      "Iteration 355, loss = 0.46676072\n",
      "Iteration 356, loss = 0.46654094\n",
      "Iteration 357, loss = 0.46642418\n",
      "Iteration 358, loss = 0.46628296\n",
      "Iteration 359, loss = 0.46625198\n",
      "Iteration 360, loss = 0.46607493\n",
      "Iteration 361, loss = 0.46597737\n",
      "Iteration 362, loss = 0.46581763\n",
      "Iteration 363, loss = 0.46572401\n",
      "Iteration 364, loss = 0.46561432\n",
      "Iteration 365, loss = 0.46552450\n",
      "Iteration 366, loss = 0.46547276\n",
      "Iteration 367, loss = 0.46539522\n",
      "Iteration 368, loss = 0.46529804\n",
      "Iteration 369, loss = 0.46511152\n",
      "Iteration 370, loss = 0.46505494\n",
      "Iteration 371, loss = 0.46497701\n",
      "Iteration 372, loss = 0.46477635\n",
      "Iteration 373, loss = 0.46471443\n",
      "Iteration 374, loss = 0.46456018\n",
      "Iteration 375, loss = 0.46451330\n",
      "Iteration 376, loss = 0.46442036\n",
      "Iteration 377, loss = 0.46427531\n",
      "Iteration 378, loss = 0.46422952\n",
      "Iteration 379, loss = 0.46412951\n",
      "Iteration 380, loss = 0.46397471\n",
      "Iteration 381, loss = 0.46390731\n",
      "Iteration 382, loss = 0.46377699\n",
      "Iteration 383, loss = 0.46370950\n",
      "Iteration 384, loss = 0.46360497\n",
      "Iteration 385, loss = 0.46354314\n",
      "Iteration 386, loss = 0.46348535\n",
      "Iteration 387, loss = 0.46334178\n",
      "Iteration 388, loss = 0.46325135\n",
      "Iteration 389, loss = 0.46313085\n",
      "Iteration 390, loss = 0.46300321\n",
      "Iteration 391, loss = 0.46289484\n",
      "Iteration 392, loss = 0.46279510\n",
      "Iteration 393, loss = 0.46268867\n",
      "Iteration 394, loss = 0.46261807\n",
      "Iteration 395, loss = 0.46246253\n",
      "Iteration 396, loss = 0.46247434\n",
      "Iteration 397, loss = 0.46230372\n",
      "Iteration 398, loss = 0.46220568\n",
      "Iteration 399, loss = 0.46208978\n",
      "Iteration 400, loss = 0.46199422\n",
      "Iteration 401, loss = 0.46196505\n",
      "Iteration 402, loss = 0.46179974\n",
      "Iteration 403, loss = 0.46175140\n",
      "Iteration 404, loss = 0.46163020\n",
      "Iteration 405, loss = 0.46158296\n",
      "Iteration 406, loss = 0.46148507\n",
      "Iteration 407, loss = 0.46143115\n",
      "Iteration 408, loss = 0.46130102\n",
      "Iteration 409, loss = 0.46123954\n",
      "Iteration 410, loss = 0.46112570\n",
      "Iteration 411, loss = 0.46105009\n",
      "Iteration 412, loss = 0.46097942\n",
      "Iteration 413, loss = 0.46081500\n",
      "Iteration 414, loss = 0.46076424\n",
      "Iteration 415, loss = 0.46069768\n",
      "Iteration 416, loss = 0.46059155\n",
      "Iteration 417, loss = 0.46050374\n",
      "Iteration 418, loss = 0.46036728\n",
      "Iteration 419, loss = 0.46033723\n",
      "Iteration 420, loss = 0.46020680\n",
      "Iteration 421, loss = 0.46011641\n",
      "Iteration 422, loss = 0.46000799\n",
      "Iteration 423, loss = 0.45996880\n",
      "Iteration 424, loss = 0.45990808\n",
      "Iteration 425, loss = 0.45993775\n",
      "Iteration 426, loss = 0.45975475\n",
      "Iteration 427, loss = 0.45966905\n",
      "Iteration 428, loss = 0.45956562\n",
      "Iteration 429, loss = 0.45945648\n",
      "Iteration 430, loss = 0.45936972\n",
      "Iteration 431, loss = 0.45943965\n",
      "Iteration 432, loss = 0.45933825\n",
      "Iteration 433, loss = 0.45936389\n",
      "Iteration 434, loss = 0.45897872\n",
      "Iteration 435, loss = 0.45887098\n",
      "Iteration 436, loss = 0.45879205\n",
      "Iteration 437, loss = 0.45877100\n",
      "Iteration 438, loss = 0.45865788\n",
      "Iteration 439, loss = 0.45858908\n",
      "Iteration 440, loss = 0.45855417\n",
      "Iteration 441, loss = 0.45848587\n",
      "Iteration 442, loss = 0.45829631\n",
      "Iteration 443, loss = 0.45818093\n",
      "Iteration 444, loss = 0.45807924\n",
      "Iteration 445, loss = 0.45804032\n",
      "Iteration 446, loss = 0.45793422\n",
      "Iteration 447, loss = 0.45782997\n",
      "Iteration 448, loss = 0.45769805\n",
      "Iteration 449, loss = 0.45765703\n",
      "Iteration 450, loss = 0.45757173\n",
      "Iteration 451, loss = 0.45749726\n",
      "Iteration 452, loss = 0.45742621\n",
      "Iteration 453, loss = 0.45728108\n",
      "Iteration 454, loss = 0.45721804\n",
      "Iteration 455, loss = 0.45710998\n",
      "Iteration 456, loss = 0.45707793\n",
      "Iteration 457, loss = 0.45691728\n",
      "Iteration 458, loss = 0.45684941\n",
      "Iteration 459, loss = 0.45680305\n",
      "Iteration 460, loss = 0.45665464\n",
      "Iteration 461, loss = 0.45656278\n",
      "Iteration 462, loss = 0.45646174\n",
      "Iteration 463, loss = 0.45642101\n",
      "Iteration 464, loss = 0.45633968\n",
      "Iteration 465, loss = 0.45626583\n",
      "Iteration 466, loss = 0.45618331\n",
      "Iteration 467, loss = 0.45618884\n",
      "Iteration 468, loss = 0.45599794\n",
      "Iteration 469, loss = 0.45597783\n",
      "Iteration 470, loss = 0.45582485\n",
      "Iteration 471, loss = 0.45577986\n",
      "Iteration 472, loss = 0.45577566\n",
      "Iteration 473, loss = 0.45575600\n",
      "Iteration 474, loss = 0.45563238\n",
      "Iteration 475, loss = 0.45546674\n",
      "Iteration 476, loss = 0.45525304\n",
      "Iteration 477, loss = 0.45525742\n",
      "Iteration 478, loss = 0.45511895\n",
      "Iteration 479, loss = 0.45509934\n",
      "Iteration 480, loss = 0.45505261\n",
      "Iteration 481, loss = 0.45501125\n",
      "Iteration 482, loss = 0.45481902\n",
      "Iteration 483, loss = 0.45469910\n",
      "Iteration 484, loss = 0.45459848\n",
      "Iteration 485, loss = 0.45463995\n",
      "Iteration 486, loss = 0.45458747\n",
      "Iteration 487, loss = 0.45441103\n",
      "Iteration 488, loss = 0.45442360\n",
      "Iteration 489, loss = 0.45419533\n",
      "Iteration 490, loss = 0.45424489\n",
      "Iteration 491, loss = 0.45425302\n",
      "Iteration 492, loss = 0.45417977\n",
      "Iteration 493, loss = 0.45409298\n",
      "Iteration 494, loss = 0.45393136\n",
      "Iteration 495, loss = 0.45383547\n",
      "Iteration 496, loss = 0.45378676\n",
      "Iteration 497, loss = 0.45353509\n",
      "Iteration 498, loss = 0.45355294\n",
      "Iteration 499, loss = 0.45344002\n",
      "Iteration 500, loss = 0.45340536\n"
     ]
    },
    {
     "name": "stderr",
     "output_type": "stream",
     "text": [
      "C:\\Users\\acer\\Anaconda3\\envs\\ult\\lib\\site-packages\\sklearn\\neural_network\\_multilayer_perceptron.py:571: ConvergenceWarning: Stochastic Optimizer: Maximum iterations (500) reached and the optimization hasn't converged yet.\n",
      "  % self.max_iter, ConvergenceWarning)\n"
     ]
    },
    {
     "data": {
      "text/plain": [
       "MLPClassifier(activation='relu', alpha=0.01, batch_size='auto', beta_1=0.9,\n",
       "              beta_2=0.999, early_stopping=False, epsilon=1e-08,\n",
       "              hidden_layer_sizes=(100, 80, 40), learning_rate='constant',\n",
       "              learning_rate_init=0.001, max_fun=15000, max_iter=500,\n",
       "              momentum=0.9, n_iter_no_change=10, nesterovs_momentum=True,\n",
       "              power_t=0.5, random_state=None, shuffle=True, solver='sgd',\n",
       "              tol=0.0001, validation_fraction=0.1, verbose=10,\n",
       "              warm_start=False)"
      ]
     },
     "execution_count": 70,
     "metadata": {},
     "output_type": "execute_result"
    }
   ],
   "source": [
    "mlp.fit(X_train, y_train)"
   ]
  },
  {
   "cell_type": "code",
   "execution_count": 71,
   "metadata": {},
   "outputs": [],
   "source": [
    "y_mlp=mlp.predict(X_test)"
   ]
  },
  {
   "cell_type": "code",
   "execution_count": 72,
   "metadata": {},
   "outputs": [
    {
     "name": "stdout",
     "output_type": "stream",
     "text": [
      "Accuracy of model is: 81.16591928251121\n"
     ]
    }
   ],
   "source": [
    "print(\"Accuracy of model is:\",accuracy_score(y_test,y_mlp)*100)"
   ]
  },
  {
   "cell_type": "code",
   "execution_count": 73,
   "metadata": {},
   "outputs": [
    {
     "name": "stdout",
     "output_type": "stream",
     "text": [
      "The classification matrix for data is:\n"
     ]
    },
    {
     "data": {
      "text/plain": [
       "array([[120,  18],\n",
       "       [ 24,  61]], dtype=int64)"
      ]
     },
     "execution_count": 73,
     "metadata": {},
     "output_type": "execute_result"
    }
   ],
   "source": [
    "print(\"The classification matrix for data is:\")\n",
    "confusion_matrix(y_test, y_mlp)"
   ]
  }
 ],
 "metadata": {
  "kernelspec": {
   "display_name": "Python 3",
   "language": "python",
   "name": "python3"
  },
  "language_info": {
   "codemirror_mode": {
    "name": "ipython",
    "version": 3
   },
   "file_extension": ".py",
   "mimetype": "text/x-python",
   "name": "python",
   "nbconvert_exporter": "python",
   "pygments_lexer": "ipython3",
   "version": "3.7.6"
  }
 },
 "nbformat": 4,
 "nbformat_minor": 4
}
